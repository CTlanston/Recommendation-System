{
 "cells": [
  {
   "cell_type": "markdown",
   "metadata": {},
   "source": [
    "# Q1 profit "
   ]
  },
  {
   "cell_type": "code",
   "execution_count": null,
   "metadata": {},
   "outputs": [],
   "source": []
  },
  {
   "cell_type": "code",
   "execution_count": null,
   "metadata": {},
   "outputs": [],
   "source": [
    "from google.cloud import bigquery\n",
    "from google.oauth2 import service_account\n",
    "\n",
    "# Construct credentials from service account key file\n",
    "credentials = service_account.Credentials.from_service_account_file(\n",
    "    'tche368-isom676-srvacct_srvacct.json')  # Update the file path as needed\n",
    "\n",
    "# Construct a BigQuery client object\n",
    "client = bigquery.Client(credentials=credentials)\n",
    "\n",
    "# Revised and optimized query\n",
    "QUERY = \"\"\"\n",
    "WITH product_filter AS (\n",
    "    SELECT *\n",
    "    FROM `machine_learning.products`\n",
    "    WHERE prod_category NOT IN (\"Gift Cards\", \"Other\", \"Front End Service\", \"Scanning Errors\", \"Customer Service-Misc\", \"Empties and Additionals\")\n",
    "),\n",
    "valid_transactions AS (\n",
    "    SELECT *\n",
    "    FROM `machine_learning.transactions` a \n",
    "    join product_filter b on a.prod_id  = b.prod_id \n",
    "    WHERE trans_dt < \"2020-03-01\"\n",
    "    AND a.prod_id IN (SELECT prod_id FROM product_filter)\n",
    "        AND \n",
    "        -- Logic 1: Either sales_qty or sales_wgt is zero, but not both\n",
    "        ((sales_qty = 0 AND sales_wgt <> 0) OR (sales_qty <> 0 AND sales_wgt = 0) or (sales_qty =1  AND sales_wgt <> 0))\n",
    "        AND \n",
    "        -- Logics 2 and 3 are parallel conditions\n",
    "        (\n",
    "            (prod_category NOT IN (\"Coupon\", \"returns\") AND (sales_qty > 0 OR sales_wgt > 0))\n",
    "            OR\n",
    "            (prod_category IN (\"Coupon\", \"returns\") AND (sales_qty < 0 OR sales_wgt < 0))\n",
    "        )\n",
    "    AND sales_amt >= 0\n",
    "),\n",
    "transactions_per_day AS (\n",
    "    SELECT cust_id, trans_dt, COUNT(DISTINCT trans_id) AS trans_per_day\n",
    "    FROM valid_transactions\n",
    "    GROUP BY cust_id, trans_dt\n",
    "    HAVING trans_per_day <= 10\n",
    "),\n",
    "eligible_custs AS (\n",
    "    SELECT v.cust_id\n",
    "    FROM valid_transactions v\n",
    "    JOIN transactions_per_day tpd ON v.cust_id = tpd.cust_id AND v.trans_dt = tpd.trans_dt\n",
    "    GROUP BY v.cust_id\n",
    "    HAVING COUNT(DISTINCT v.trans_id) >= 5\n",
    "    AND COUNT(DISTINCT v.trans_dt) >= 5\n",
    "    AND COUNT(v.trans_id) <= 20000\n",
    "),\n",
    "sampled_custs AS (\n",
    "    SELECT cust_id\n",
    "    FROM eligible_custs\n",
    "    WHERE MOD(ABS(FARM_FINGERPRINT(CAST(cust_id AS STRING))), 1000) < 1\n",
    ")\n",
    "SELECT tx.*\n",
    "FROM `valid_transactions` tx\n",
    "JOIN sampled_custs ON tx.cust_id = sampled_custs.cust_id\n",
    "WHERE tx.trans_dt < \"2020-03-01\"\n",
    "\"\"\"\n",
    "\n",
    "# Execute the query\n",
    "query_job = client.query(QUERY)  # API request\n",
    "\n",
    "# Convert to DataFrame\n",
    "samp_df1 = query_job.to_dataframe()  # Waits for query to finish and converts it to DataFrame\n"
   ]
  },
  {
   "cell_type": "code",
   "execution_count": null,
   "metadata": {},
   "outputs": [],
   "source": [
    "# Load product and profit margin data\n",
    "product_profit_margin_df = pd.read_excel(\"C:/Users/ctlan/OneDrive/desktop/AI at Scale/HW/Product Category Profit Margin.xlsx\")\n",
    "\n",
    "# Merge with product_profit_margin to get profit margins\n",
    "merged_df = pd.merge(sample_transaction, product_profit_margin_df, on='prod_category', how='left')\n",
    "\n",
    "# Calculate profit for each transaction\n",
    "merged_df['profit'] = merged_df['sales_amt'] * merged_df['profit_margin']"
   ]
  },
  {
   "cell_type": "code",
   "execution_count": null,
   "metadata": {},
   "outputs": [],
   "source": [
    "product_profit_margin_df = pd.read_excel(\"C:/Users/ctlan/OneDrive/desktop/AI at Scale/HW/Product Category Profit Margin.xlsx\")\n",
    "\n",
    "# Merge with product_profit_margin to get profit margins\n",
    "merged_df = pd.merge(sample_transaction, product_profit_margin_df, on='prod_category', how='left')\n",
    "\n",
    "# Calculate profit for each transaction\n",
    "merged_df['profit'] = merged_df['sales_amt'] * merged_df['profit_margin']\n",
    "\n",
    "total_profit_by_customer = merged_df.groupby('cust_id')['profit'].sum().reset_index()\n",
    "\n",
    "# Sort stores by total profit and select top 10\n",
    "top_customer_by_profit = total_profit_by_customer.sort_values(by='profit', ascending=False).head(10)\n",
    "\n",
    "\n",
    "top_customer_by_profit"
   ]
  }
 ],
 "metadata": {
  "language_info": {
   "name": "python"
  }
 },
 "nbformat": 4,
 "nbformat_minor": 2
}
